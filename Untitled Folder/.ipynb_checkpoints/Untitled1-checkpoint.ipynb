{
 "cells": [
  {
   "cell_type": "code",
   "execution_count": 8,
   "metadata": {},
   "outputs": [
    {
     "ename": "ImportError",
     "evalue": "Matplotlib requires six>=1.10; you have 1.5.2",
     "output_type": "error",
     "traceback": [
      "\u001b[0;31m---------------------------------------------------------------------------\u001b[0m",
      "\u001b[0;31mImportError\u001b[0m                               Traceback (most recent call last)",
      "\u001b[0;32m<ipython-input-8-3c554eb1a47f>\u001b[0m in \u001b[0;36m<module>\u001b[0;34m()\u001b[0m\n\u001b[1;32m      1\u001b[0m \u001b[0;32mimport\u001b[0m \u001b[0mtushare\u001b[0m \u001b[0;32mas\u001b[0m \u001b[0mts\u001b[0m\u001b[0;34m\u001b[0m\u001b[0m\n\u001b[0;32m----> 2\u001b[0;31m \u001b[0;32mimport\u001b[0m \u001b[0mmatplotlib\u001b[0m\u001b[0;34m.\u001b[0m\u001b[0mpyplot\u001b[0m \u001b[0;32mas\u001b[0m \u001b[0mplt\u001b[0m\u001b[0;34m\u001b[0m\u001b[0m\n\u001b[0m",
      "\u001b[0;32m/usr/local/lib/python2.7/dist-packages/matplotlib/__init__.py\u001b[0m in \u001b[0;36m<module>\u001b[0;34m()\u001b[0m\n\u001b[1;32m    185\u001b[0m \u001b[0;32mif\u001b[0m \u001b[0;32mnot\u001b[0m \u001b[0mcompare_versions\u001b[0m\u001b[0;34m(\u001b[0m\u001b[0msix\u001b[0m\u001b[0;34m.\u001b[0m\u001b[0m__version__\u001b[0m\u001b[0;34m,\u001b[0m \u001b[0;34m'1.10'\u001b[0m\u001b[0;34m)\u001b[0m\u001b[0;34m:\u001b[0m\u001b[0;34m\u001b[0m\u001b[0m\n\u001b[1;32m    186\u001b[0m     raise ImportError(\n\u001b[0;32m--> 187\u001b[0;31m         \"Matplotlib requires six>=1.10; you have %s\" % six.__version__)\n\u001b[0m\u001b[1;32m    188\u001b[0m \u001b[0;34m\u001b[0m\u001b[0m\n\u001b[1;32m    189\u001b[0m \u001b[0;34m\u001b[0m\u001b[0m\n",
      "\u001b[0;31mImportError\u001b[0m: Matplotlib requires six>=1.10; you have 1.5.2"
     ]
    }
   ],
   "source": [
    "import tushare as ts\n",
    "import matplotlib.pyplot as plt"
   ]
  },
  {
   "cell_type": "code",
   "execution_count": 4,
   "metadata": {},
   "outputs": [],
   "source": [
    "basic = ts.get_stock_basics()"
   ]
  },
  {
   "cell_type": "code",
   "execution_count": 6,
   "metadata": {},
   "outputs": [
    {
     "data": {
      "text/plain": [
       "code\n",
       "300729     44879.0\n",
       "002913     71856.0\n",
       "603848     43177.0\n",
       "002214     38660.0\n",
       "000916     65961.0\n",
       "300364     39619.0\n",
       "000677     55715.0\n",
       "300494     25342.0\n",
       "002129    110151.0\n",
       "600667     72535.0\n",
       "002194     57713.0\n",
       "002864     45481.0\n",
       "300727     50562.0\n",
       "300582     23321.0\n",
       "300585     12830.0\n",
       "002912     33412.0\n",
       "300176      3245.0\n",
       "603809     29451.0\n",
       "300725     36669.0\n",
       "002422     29633.0\n",
       "603685     27290.0\n",
       "300726     79196.0\n",
       "603711     39802.0\n",
       "002895     26938.0\n",
       "300229     40453.0\n",
       "000681     29191.0\n",
       "603501     22374.0\n",
       "300562     22224.0\n",
       "002336     16333.0\n",
       "300052     40358.0\n",
       "            ...   \n",
       "600859     31261.0\n",
       "300721     42343.0\n",
       "002625     29377.0\n",
       "002830     13733.0\n",
       "603083     27584.0\n",
       "603912     36508.0\n",
       "600903    106254.0\n",
       "600807     63484.0\n",
       "603722     24007.0\n",
       "300267     15993.0\n",
       "300722     40001.0\n",
       "603477         0.0\n",
       "603161         0.0\n",
       "600806     33099.0\n",
       "600432     70654.0\n",
       "600025         0.0\n",
       "300732         0.0\n",
       "300731         0.0\n",
       "300730         0.0\n",
       "002919         0.0\n",
       "002918         0.0\n",
       "002917         0.0\n",
       "002916         0.0\n",
       "002915         0.0\n",
       "000950     30624.0\n",
       "000629    309056.0\n",
       "000511    164822.0\n",
       "000155     29521.0\n",
       "603917         0.0\n",
       "603890         0.0\n",
       "Name: holders, Length: 3460, dtype: float64"
      ]
     },
     "execution_count": 6,
     "metadata": {},
     "output_type": "execute_result"
    }
   ],
   "source": [
    "basic.holders"
   ]
  },
  {
   "cell_type": "code",
   "execution_count": null,
   "metadata": {},
   "outputs": [],
   "source": []
  }
 ],
 "metadata": {
  "kernelspec": {
   "display_name": "Python 2",
   "language": "python",
   "name": "python2"
  },
  "language_info": {
   "codemirror_mode": {
    "name": "ipython",
    "version": 2
   },
   "file_extension": ".py",
   "mimetype": "text/x-python",
   "name": "python",
   "nbconvert_exporter": "python",
   "pygments_lexer": "ipython2",
   "version": "2.7.6"
  }
 },
 "nbformat": 4,
 "nbformat_minor": 2
}
