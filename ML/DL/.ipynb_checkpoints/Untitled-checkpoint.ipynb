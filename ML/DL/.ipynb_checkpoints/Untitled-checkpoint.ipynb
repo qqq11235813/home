{
 "cells": [
  {
   "cell_type": "code",
   "execution_count": 4,
   "metadata": {
    "collapsed": false
   },
   "outputs": [],
   "source": [
    "import numpy as np\n",
    "\n",
    "import time"
   ]
  },
  {
   "cell_type": "markdown",
   "metadata": {},
   "source": [
    "## vectorization"
   ]
  },
  {
   "cell_type": "markdown",
   "metadata": {},
   "source": [
    "### for loop is awful"
   ]
  },
  {
   "cell_type": "code",
   "execution_count": 16,
   "metadata": {
    "collapsed": false
   },
   "outputs": [
    {
     "name": "stdout",
     "output_type": "stream",
     "text": [
      "24943.1085069\n",
      "('this is vectorization time', '0.366926193237ms')\n",
      "('this is for loop time', '92.9989814758ms')\n"
     ]
    }
   ],
   "source": [
    "a=np.random.rand(100000)\n",
    "b=np.random.rand(100000)\n",
    "\n",
    "tic = time.time()\n",
    "c = np.dot(a,b)\n",
    "toc = time.time()\n",
    "print(\"this is vectorization time\",str(1000*(toc-tic))+\"ms\")\n",
    "\n",
    "c=0\n",
    "tic = time.time()\n",
    "for i in range(100000):\n",
    "    c+=a[i]*b[i]\n",
    "toc = time.time()\n",
    "print(\"this is for loop time\",str(1000*(toc-tic))+\"ms\")"
   ]
  },
  {
   "cell_type": "markdown",
   "metadata": {},
   "source": [
    "### basic transition"
   ]
  },
  {
   "cell_type": "code",
   "execution_count": 18,
   "metadata": {
    "collapsed": false
   },
   "outputs": [
    {
     "name": "stdout",
     "output_type": "stream",
     "text": [
      "[ 2.51648879  1.05255979  1.14429221 ...,  1.21501867  1.30500121\n",
      "  2.22231366]\n"
     ]
    }
   ],
   "source": [
    "v = np.random.rand(100000)\n",
    "u = np.exp(v)\n",
    "print u\n"
   ]
  },
  {
   "cell_type": "code",
   "execution_count": 26,
   "metadata": {
    "collapsed": false
   },
   "outputs": [
    {
     "name": "stdout",
     "output_type": "stream",
     "text": [
      "[[  56.     0.     4.4   68. ]\n",
      " [   1.2  104.    52.     8. ]\n",
      " [   1.8  135.    99.     0.9]]\n",
      "[  59.   239.   155.4   76.9]\n",
      "[[  59.   239.   155.4   76.9]]\n",
      "[[ 94.91525424   0.           2.83140283  88.42652796]\n",
      " [  2.03389831  43.51464435  33.46203346  10.40312094]\n",
      " [  3.05084746  56.48535565  63.70656371   1.17035111]]\n",
      "[[  59. ]\n",
      " [ 239. ]\n",
      " [ 155.4]\n",
      " [  76.9]]\n"
     ]
    }
   ],
   "source": [
    "A = np.array([[56.0,0.0,4.4,68.0],\n",
    "              [1.2,104.0,52.0,8.0],\n",
    "              [1.8,135.0,99.0,0.9]])\n",
    "print A\n",
    "cal = A.sum(axis=0)\n",
    "print cal\n",
    "print cal.reshape(1,4)\n",
    "percentage = 100*A/(cal.reshape(1,4))\n",
    "print percentage\n",
    "print cal.reshape(4,1)"
   ]
  },
  {
   "cell_type": "markdown",
   "metadata": {},
   "source": [
    "## some trick"
   ]
  },
  {
   "cell_type": "markdown",
   "metadata": {},
   "source": [
    "### dont use like this"
   ]
  },
  {
   "cell_type": "code",
   "execution_count": 27,
   "metadata": {
    "collapsed": false
   },
   "outputs": [
    {
     "name": "stdout",
     "output_type": "stream",
     "text": [
      "[ 0.96228462  1.00796744 -1.14907959  1.41681064 -0.12452124]\n"
     ]
    }
   ],
   "source": [
    "a = np.random.randn(5)\n",
    "print a"
   ]
  },
  {
   "cell_type": "markdown",
   "metadata": {},
   "source": [
    "### instead use these"
   ]
  },
  {
   "cell_type": "code",
   "execution_count": 28,
   "metadata": {
    "collapsed": false
   },
   "outputs": [
    {
     "name": "stdout",
     "output_type": "stream",
     "text": [
      "[[ 0.23732779]\n",
      " [ 0.07494827]\n",
      " [ 1.08046813]\n",
      " [-0.22084719]\n",
      " [-0.44355408]]\n"
     ]
    }
   ],
   "source": [
    "a = np.random.randn(5,1)\n",
    "print a"
   ]
  },
  {
   "cell_type": "code",
   "execution_count": 37,
   "metadata": {
    "collapsed": false
   },
   "outputs": [],
   "source": [
    "a = np.random.randn(1,5)\n",
    "assert(a.shape == (5,1))\n",
    "#print a"
   ]
  },
  {
   "cell_type": "code",
   "execution_count": 36,
   "metadata": {
    "collapsed": false
   },
   "outputs": [],
   "source": [
    "a = np.random.randn(5)\n",
    "a=a.reshape((1,5))\n",
    "assert(a.shape==(1,5))"
   ]
  },
  {
   "cell_type": "code",
   "execution_count": null,
   "metadata": {
    "collapsed": true
   },
   "outputs": [],
   "source": []
  }
 ],
 "metadata": {
  "kernelspec": {
   "display_name": "Python 2",
   "language": "python",
   "name": "python2"
  },
  "language_info": {
   "codemirror_mode": {
    "name": "ipython",
    "version": 2
   },
   "file_extension": ".py",
   "mimetype": "text/x-python",
   "name": "python",
   "nbconvert_exporter": "python",
   "pygments_lexer": "ipython2",
   "version": "2.7.6"
  }
 },
 "nbformat": 4,
 "nbformat_minor": 1
}
