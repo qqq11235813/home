{
 "cells": [
  {
   "cell_type": "markdown",
   "metadata": {},
   "source": [
    "# Machine Learning"
   ]
  },
  {
   "cell_type": "markdown",
   "metadata": {},
   "source": [
    "## Data Preprocessing"
   ]
  },
  {
   "cell_type": "markdown",
   "metadata": {},
   "source": [
    "### load data"
   ]
  },
  {
   "cell_type": "code",
   "execution_count": 1,
   "metadata": {
    "collapsed": false
   },
   "outputs": [],
   "source": [
    "import xlrd  \n",
    "import csv  \n",
    "from os import sys  \n",
    "  \n",
    "def csv_from_excel(excel_file):  \n",
    "    workbook = xlrd.open_workbook(excel_file)  \n",
    "    all_worksheets = workbook.sheet_names()  \n",
    "    for worksheet_name in all_worksheets:  \n",
    "        worksheet = workbook.sheet_by_name(worksheet_name)  \n",
    "        your_csv_file = open(''.join(['data1.csv']), 'wb')  \n",
    "        wr = csv.writer(your_csv_file, quoting=csv.QUOTE_ALL)  \n",
    "  \n",
    "  \n",
    "        for rownum in xrange(worksheet.nrows):  \n",
    "            wr.writerow([unicode(entry).encode(\"utf-8\") for entry in worksheet.row_values(rownum)])  \n",
    "        your_csv_file.close()  \n",
    "csv_from_excel('data1.xlsx')"
   ]
  },
  {
   "cell_type": "markdown",
   "metadata": {},
   "source": [
    "### combine the data"
   ]
  },
  {
   "cell_type": "code",
   "execution_count": 53,
   "metadata": {
    "collapsed": false,
    "scrolled": true
   },
   "outputs": [
    {
     "name": "stderr",
     "output_type": "stream",
     "text": [
      "/usr/local/lib/python2.7/dist-packages/ipykernel/__main__.py:4: SettingWithCopyWarning: \n",
      "A value is trying to be set on a copy of a slice from a DataFrame\n",
      "\n",
      "See the caveats in the documentation: http://pandas.pydata.org/pandas-docs/stable/indexing.html#indexing-view-versus-copy\n",
      "/usr/local/lib/python2.7/dist-packages/ipykernel/__main__.py:11: SettingWithCopyWarning: \n",
      "A value is trying to be set on a copy of a slice from a DataFrame\n",
      "\n",
      "See the caveats in the documentation: http://pandas.pydata.org/pandas-docs/stable/indexing.html#indexing-view-versus-copy\n",
      "/usr/local/lib/python2.7/dist-packages/ipykernel/__main__.py:18: SettingWithCopyWarning: \n",
      "A value is trying to be set on a copy of a slice from a DataFrame\n",
      "\n",
      "See the caveats in the documentation: http://pandas.pydata.org/pandas-docs/stable/indexing.html#indexing-view-versus-copy\n",
      "/usr/local/lib/python2.7/dist-packages/ipykernel/__main__.py:25: SettingWithCopyWarning: \n",
      "A value is trying to be set on a copy of a slice from a DataFrame\n",
      "\n",
      "See the caveats in the documentation: http://pandas.pydata.org/pandas-docs/stable/indexing.html#indexing-view-versus-copy\n"
     ]
    },
    {
     "data": {
      "text/html": [
       "<div>\n",
       "<table border=\"1\" class=\"dataframe\">\n",
       "  <thead>\n",
       "    <tr style=\"text-align: right;\">\n",
       "      <th></th>\n",
       "      <th>id</th>\n",
       "      <th>max</th>\n",
       "      <th>word</th>\n",
       "    </tr>\n",
       "  </thead>\n",
       "  <tbody>\n",
       "    <tr>\n",
       "      <th>0</th>\n",
       "      <td>用户eium1iebz7</td>\n",
       "      <td>2</td>\n",
       "      <td>0.0444444</td>\n",
       "    </tr>\n",
       "    <tr>\n",
       "      <th>2</th>\n",
       "      <td>外星人的草根</td>\n",
       "      <td>8</td>\n",
       "      <td>0.0249623</td>\n",
       "    </tr>\n",
       "    <tr>\n",
       "      <th>3</th>\n",
       "      <td>逆光夏花花</td>\n",
       "      <td>2</td>\n",
       "      <td>0.0174592</td>\n",
       "    </tr>\n",
       "    <tr>\n",
       "      <th>4</th>\n",
       "      <td>在大时代过小日子8</td>\n",
       "      <td>5</td>\n",
       "      <td>0.016896</td>\n",
       "    </tr>\n",
       "    <tr>\n",
       "      <th>5</th>\n",
       "      <td>小冰很困</td>\n",
       "      <td>3</td>\n",
       "      <td>0.020755</td>\n",
       "    </tr>\n",
       "    <tr>\n",
       "      <th>6</th>\n",
       "      <td>尉迟松泥</td>\n",
       "      <td>3</td>\n",
       "      <td>0.016205</td>\n",
       "    </tr>\n",
       "    <tr>\n",
       "      <th>7</th>\n",
       "      <td>樱花树下等雨</td>\n",
       "      <td>9</td>\n",
       "      <td>0.0205668</td>\n",
       "    </tr>\n",
       "    <tr>\n",
       "      <th>8</th>\n",
       "      <td>长歌天未名</td>\n",
       "      <td>3</td>\n",
       "      <td>0.0178301</td>\n",
       "    </tr>\n",
       "    <tr>\n",
       "      <th>9</th>\n",
       "      <td>简某_</td>\n",
       "      <td>1</td>\n",
       "      <td>0.216634</td>\n",
       "    </tr>\n",
       "    <tr>\n",
       "      <th>10</th>\n",
       "      <td>xdjus1993</td>\n",
       "      <td>1</td>\n",
       "      <td>0.254438</td>\n",
       "    </tr>\n",
       "    <tr>\n",
       "      <th>11</th>\n",
       "      <td>用户6372058718</td>\n",
       "      <td>7</td>\n",
       "      <td>0.0516644</td>\n",
       "    </tr>\n",
       "    <tr>\n",
       "      <th>12</th>\n",
       "      <td>AAA周少</td>\n",
       "      <td>4</td>\n",
       "      <td>0.0260107</td>\n",
       "    </tr>\n",
       "    <tr>\n",
       "      <th>13</th>\n",
       "      <td>用户6112248456</td>\n",
       "      <td>1</td>\n",
       "      <td>0.344595</td>\n",
       "    </tr>\n",
       "    <tr>\n",
       "      <th>14</th>\n",
       "      <td>安吉宝贝</td>\n",
       "      <td>2</td>\n",
       "      <td>0.0213943</td>\n",
       "    </tr>\n",
       "    <tr>\n",
       "      <th>15</th>\n",
       "      <td>虎蛋蛋公主殿下</td>\n",
       "      <td>1</td>\n",
       "      <td>0.449275</td>\n",
       "    </tr>\n",
       "    <tr>\n",
       "      <th>16</th>\n",
       "      <td>剑仙一清</td>\n",
       "      <td>3</td>\n",
       "      <td>0.0230846</td>\n",
       "    </tr>\n",
       "    <tr>\n",
       "      <th>17</th>\n",
       "      <td>怪兽不走</td>\n",
       "      <td>3</td>\n",
       "      <td>0.0162503</td>\n",
       "    </tr>\n",
       "    <tr>\n",
       "      <th>18</th>\n",
       "      <td>M土豆猫</td>\n",
       "      <td>4</td>\n",
       "      <td>0.0194932</td>\n",
       "    </tr>\n",
       "    <tr>\n",
       "      <th>19</th>\n",
       "      <td>Sophie_GENG</td>\n",
       "      <td>6</td>\n",
       "      <td>0.0305755</td>\n",
       "    </tr>\n",
       "    <tr>\n",
       "      <th>20</th>\n",
       "      <td>YagY思思</td>\n",
       "      <td>6</td>\n",
       "      <td>0.0224175</td>\n",
       "    </tr>\n",
       "    <tr>\n",
       "      <th>21</th>\n",
       "      <td>奶油小椰baby的主场</td>\n",
       "      <td>4</td>\n",
       "      <td>0.0260235</td>\n",
       "    </tr>\n",
       "    <tr>\n",
       "      <th>22</th>\n",
       "      <td>璐瑤傳</td>\n",
       "      <td>8</td>\n",
       "      <td>0.0240651</td>\n",
       "    </tr>\n",
       "    <tr>\n",
       "      <th>23</th>\n",
       "      <td>wowo在哪里</td>\n",
       "      <td>11</td>\n",
       "      <td>0.0129295</td>\n",
       "    </tr>\n",
       "    <tr>\n",
       "      <th>24</th>\n",
       "      <td>徐园浩</td>\n",
       "      <td>2</td>\n",
       "      <td>0.0154624</td>\n",
       "    </tr>\n",
       "    <tr>\n",
       "      <th>25</th>\n",
       "      <td>胡椒心心</td>\n",
       "      <td>3</td>\n",
       "      <td>0.0211901</td>\n",
       "    </tr>\n",
       "    <tr>\n",
       "      <th>26</th>\n",
       "      <td>朽木不可雕1911</td>\n",
       "      <td>5</td>\n",
       "      <td>0.0187396</td>\n",
       "    </tr>\n",
       "    <tr>\n",
       "      <th>27</th>\n",
       "      <td>早睡早起精神好身体好</td>\n",
       "      <td>3</td>\n",
       "      <td>0.0203839</td>\n",
       "    </tr>\n",
       "    <tr>\n",
       "      <th>28</th>\n",
       "      <td>Blue-grapes</td>\n",
       "      <td>4</td>\n",
       "      <td>0.0258546</td>\n",
       "    </tr>\n",
       "    <tr>\n",
       "      <th>29</th>\n",
       "      <td>啊萱草快乐</td>\n",
       "      <td>4</td>\n",
       "      <td>0.0140084</td>\n",
       "    </tr>\n",
       "    <tr>\n",
       "      <th>30</th>\n",
       "      <td>俊朗的骑士</td>\n",
       "      <td>1</td>\n",
       "      <td>0.107345</td>\n",
       "    </tr>\n",
       "    <tr>\n",
       "      <th>...</th>\n",
       "      <td>...</td>\n",
       "      <td>...</td>\n",
       "      <td>...</td>\n",
       "    </tr>\n",
       "    <tr>\n",
       "      <th>119</th>\n",
       "      <td>乐泺7</td>\n",
       "      <td>11</td>\n",
       "      <td>0.0112215</td>\n",
       "    </tr>\n",
       "    <tr>\n",
       "      <th>120</th>\n",
       "      <td>大焱1978</td>\n",
       "      <td>3</td>\n",
       "      <td>0.0473244</td>\n",
       "    </tr>\n",
       "    <tr>\n",
       "      <th>121</th>\n",
       "      <td>开口吐纳KTV哈哈</td>\n",
       "      <td>3</td>\n",
       "      <td>0.0156451</td>\n",
       "    </tr>\n",
       "    <tr>\n",
       "      <th>122</th>\n",
       "      <td>我的名字叫大风风</td>\n",
       "      <td>6</td>\n",
       "      <td>0.01593</td>\n",
       "    </tr>\n",
       "    <tr>\n",
       "      <th>123</th>\n",
       "      <td>so_tellmeyouarejoking</td>\n",
       "      <td>2</td>\n",
       "      <td>0.024986</td>\n",
       "    </tr>\n",
       "    <tr>\n",
       "      <th>124</th>\n",
       "      <td>Rynm_</td>\n",
       "      <td>6</td>\n",
       "      <td>0.0140447</td>\n",
       "    </tr>\n",
       "    <tr>\n",
       "      <th>125</th>\n",
       "      <td>苦海无边回头是岸an</td>\n",
       "      <td>4</td>\n",
       "      <td>0.018886</td>\n",
       "    </tr>\n",
       "    <tr>\n",
       "      <th>126</th>\n",
       "      <td>9krget</td>\n",
       "      <td>5</td>\n",
       "      <td>0.0175568</td>\n",
       "    </tr>\n",
       "    <tr>\n",
       "      <th>127</th>\n",
       "      <td>用户6374565665</td>\n",
       "      <td>2</td>\n",
       "      <td>0.118081</td>\n",
       "    </tr>\n",
       "    <tr>\n",
       "      <th>128</th>\n",
       "      <td>神经侠飞天标</td>\n",
       "      <td>4</td>\n",
       "      <td>0.0258007</td>\n",
       "    </tr>\n",
       "    <tr>\n",
       "      <th>129</th>\n",
       "      <td>秋儿-木婉清免费减肥</td>\n",
       "      <td>8</td>\n",
       "      <td>0.0263653</td>\n",
       "    </tr>\n",
       "    <tr>\n",
       "      <th>130</th>\n",
       "      <td>蝙蝠侠emerge</td>\n",
       "      <td>20</td>\n",
       "      <td>0.013353</td>\n",
       "    </tr>\n",
       "    <tr>\n",
       "      <th>131</th>\n",
       "      <td>用户6381633056</td>\n",
       "      <td>1</td>\n",
       "      <td>0.648649</td>\n",
       "    </tr>\n",
       "    <tr>\n",
       "      <th>132</th>\n",
       "      <td>未_步_</td>\n",
       "      <td>10</td>\n",
       "      <td>0.0194055</td>\n",
       "    </tr>\n",
       "    <tr>\n",
       "      <th>133</th>\n",
       "      <td>托马斯慕小勒</td>\n",
       "      <td>2</td>\n",
       "      <td>0.0267668</td>\n",
       "    </tr>\n",
       "    <tr>\n",
       "      <th>134</th>\n",
       "      <td>我是雪子姐</td>\n",
       "      <td>3</td>\n",
       "      <td>0.0212434</td>\n",
       "    </tr>\n",
       "    <tr>\n",
       "      <th>135</th>\n",
       "      <td>羊脂球呀</td>\n",
       "      <td>2</td>\n",
       "      <td>0.0200678</td>\n",
       "    </tr>\n",
       "    <tr>\n",
       "      <th>136</th>\n",
       "      <td>我是石石石石石石石石石头</td>\n",
       "      <td>5</td>\n",
       "      <td>0.0153437</td>\n",
       "    </tr>\n",
       "    <tr>\n",
       "      <th>137</th>\n",
       "      <td>Felicity出门去</td>\n",
       "      <td>2</td>\n",
       "      <td>0.017987</td>\n",
       "    </tr>\n",
       "    <tr>\n",
       "      <th>138</th>\n",
       "      <td>GY_G</td>\n",
       "      <td>15</td>\n",
       "      <td>0.0176337</td>\n",
       "    </tr>\n",
       "    <tr>\n",
       "      <th>139</th>\n",
       "      <td>芳时晓梦</td>\n",
       "      <td>3</td>\n",
       "      <td>0.0202122</td>\n",
       "    </tr>\n",
       "    <tr>\n",
       "      <th>140</th>\n",
       "      <td>children_51356</td>\n",
       "      <td>3</td>\n",
       "      <td>0.103586</td>\n",
       "    </tr>\n",
       "    <tr>\n",
       "      <th>141</th>\n",
       "      <td>shaibugan_cl_86064b</td>\n",
       "      <td>9</td>\n",
       "      <td>0.0145039</td>\n",
       "    </tr>\n",
       "    <tr>\n",
       "      <th>142</th>\n",
       "      <td>--昼永--</td>\n",
       "      <td>4</td>\n",
       "      <td>0.0417214</td>\n",
       "    </tr>\n",
       "    <tr>\n",
       "      <th>143</th>\n",
       "      <td>三味線香花火</td>\n",
       "      <td>10</td>\n",
       "      <td>0.0170748</td>\n",
       "    </tr>\n",
       "    <tr>\n",
       "      <th>144</th>\n",
       "      <td>zcy123yqx456zch789</td>\n",
       "      <td>9</td>\n",
       "      <td>0.0166174</td>\n",
       "    </tr>\n",
       "    <tr>\n",
       "      <th>145</th>\n",
       "      <td>嶼鸋</td>\n",
       "      <td>6</td>\n",
       "      <td>0.0257696</td>\n",
       "    </tr>\n",
       "    <tr>\n",
       "      <th>146</th>\n",
       "      <td>最爱小十一</td>\n",
       "      <td>2</td>\n",
       "      <td>0.0145891</td>\n",
       "    </tr>\n",
       "    <tr>\n",
       "      <th>147</th>\n",
       "      <td>哈哈-哈哈-哈利路亚</td>\n",
       "      <td>11</td>\n",
       "      <td>0.0188143</td>\n",
       "    </tr>\n",
       "    <tr>\n",
       "      <th>148</th>\n",
       "      <td>倔强的北岸初晴</td>\n",
       "      <td>2</td>\n",
       "      <td>0.122523</td>\n",
       "    </tr>\n",
       "  </tbody>\n",
       "</table>\n",
       "<p>148 rows × 3 columns</p>\n",
       "</div>"
      ],
      "text/plain": [
       "                        id  max       word\n",
       "0             用户eium1iebz7    2  0.0444444\n",
       "2                   外星人的草根    8  0.0249623\n",
       "3                    逆光夏花花    2  0.0174592\n",
       "4                在大时代过小日子8    5   0.016896\n",
       "5                     小冰很困    3   0.020755\n",
       "6                     尉迟松泥    3   0.016205\n",
       "7                   樱花树下等雨    9  0.0205668\n",
       "8                    长歌天未名    3  0.0178301\n",
       "9                      简某_    1   0.216634\n",
       "10               xdjus1993    1   0.254438\n",
       "11            用户6372058718    7  0.0516644\n",
       "12                   AAA周少    4  0.0260107\n",
       "13            用户6112248456    1   0.344595\n",
       "14                    安吉宝贝    2  0.0213943\n",
       "15                 虎蛋蛋公主殿下    1   0.449275\n",
       "16                    剑仙一清    3  0.0230846\n",
       "17                    怪兽不走    3  0.0162503\n",
       "18                    M土豆猫    4  0.0194932\n",
       "19             Sophie_GENG    6  0.0305755\n",
       "20                  YagY思思    6  0.0224175\n",
       "21             奶油小椰baby的主场    4  0.0260235\n",
       "22                     璐瑤傳    8  0.0240651\n",
       "23                 wowo在哪里   11  0.0129295\n",
       "24                     徐园浩    2  0.0154624\n",
       "25                    胡椒心心    3  0.0211901\n",
       "26               朽木不可雕1911    5  0.0187396\n",
       "27              早睡早起精神好身体好    3  0.0203839\n",
       "28             Blue-grapes    4  0.0258546\n",
       "29                   啊萱草快乐    4  0.0140084\n",
       "30                   俊朗的骑士    1   0.107345\n",
       "..                     ...  ...        ...\n",
       "119                    乐泺7   11  0.0112215\n",
       "120                 大焱1978    3  0.0473244\n",
       "121              开口吐纳KTV哈哈    3  0.0156451\n",
       "122               我的名字叫大风风    6    0.01593\n",
       "123  so_tellmeyouarejoking    2   0.024986\n",
       "124                  Rynm_    6  0.0140447\n",
       "125             苦海无边回头是岸an    4   0.018886\n",
       "126                 9krget    5  0.0175568\n",
       "127           用户6374565665    2   0.118081\n",
       "128                 神经侠飞天标    4  0.0258007\n",
       "129             秋儿-木婉清免费减肥    8  0.0263653\n",
       "130              蝙蝠侠emerge   20   0.013353\n",
       "131           用户6381633056    1   0.648649\n",
       "132                   未_步_   10  0.0194055\n",
       "133                 托马斯慕小勒    2  0.0267668\n",
       "134                  我是雪子姐    3  0.0212434\n",
       "135                   羊脂球呀    2  0.0200678\n",
       "136           我是石石石石石石石石石头    5  0.0153437\n",
       "137            Felicity出门去    2   0.017987\n",
       "138                   GY_G   15  0.0176337\n",
       "139                   芳时晓梦    3  0.0202122\n",
       "140         children_51356    3   0.103586\n",
       "141    shaibugan_cl_86064b    9  0.0145039\n",
       "142                 --昼永--    4  0.0417214\n",
       "143                 三味線香花火   10  0.0170748\n",
       "144     zcy123yqx456zch789    9  0.0166174\n",
       "145                     嶼鸋    6  0.0257696\n",
       "146                  最爱小十一    2  0.0145891\n",
       "147             哈哈-哈哈-哈利路亚   11  0.0188143\n",
       "148                倔强的北岸初晴    2   0.122523\n",
       "\n",
       "[148 rows x 3 columns]"
      ]
     },
     "execution_count": 53,
     "metadata": {},
     "output_type": "execute_result"
    }
   ],
   "source": [
    "df_real12 = pd.read_csv('later/real12.csv')\n",
    "df_real12.columns = ['id', 'max', 'word']\n",
    "for index, row in df_real12.iterrows():\n",
    "    df_real12['word'][index] = 1-float(len(set(row.word)))/len(row.word)\n",
    "    #row.word = float(len(set(row.word)))/len(row.word)\n",
    "df_real12.drop(df_real12.index[1])\n",
    "\n",
    "df_real22 = pd.read_csv('later/real22.csv')\n",
    "df_real22.columns = ['id', 'max', 'word']\n",
    "for index, row in df_real22.iterrows():\n",
    "    df_real22['word'][index] = 1-float(len(set(row.word)))/len(row.word)\n",
    "    #row.word = float(len(set(row.word)))/len(row.word)\n",
    "df_real22.drop(df_real22.index[1])\n",
    "\n",
    "df_real32 = pd.read_csv('later/real32.csv')\n",
    "df_real32.columns = ['id', 'max', 'word']\n",
    "for index, row in df_real32.iterrows():\n",
    "    df_real32['word'][index] = 1-float(len(set(row.word)))/len(row.word)\n",
    "    #row.word = float(len(set(row.word)))/len(row.word)\n",
    "df_real32.drop(df_real32.index[1])\n",
    "\n",
    "df_fake12 = pd.read_csv('later/fake12.csv')\n",
    "df_fake12.columns = ['id', 'max', 'word']\n",
    "for index, row in df_fake12.iterrows():\n",
    "    df_fake12['word'][index] = float(len(set(row.word)))/len(row.word)\n",
    "    #row.word = float(len(set(row.word)))/len(row.word)\n",
    "df_fake12.drop(df_real12.index[1])\n",
    "\n"
   ]
  },
  {
   "cell_type": "markdown",
   "metadata": {},
   "source": [
    "### data visialization "
   ]
  },
  {
   "cell_type": "code",
   "execution_count": 58,
   "metadata": {
    "collapsed": false,
    "scrolled": false
   },
   "outputs": [
    {
     "data": {
      "text/plain": [
       "<matplotlib.text.Text at 0x7f276ab02390>"
      ]
     },
     "execution_count": 58,
     "metadata": {},
     "output_type": "execute_result"
    },
    {
     "data": {
      "image/png": "[encoded data removed]",
      "text/plain": [
       "<matplotlib.figure.Figure at 0x7f276ad54f10>"
      ]
     },
     "metadata": {},
     "output_type": "display_data"
    }
   ],
   "source": [
    "df_real2 = pd.concat([df_real12, df_real22, df_real32], axis = 0)\n",
    "real2 = np.array(df_real2.iloc[:,2])\n",
    "\n",
    "plt.hist(real2, alpha = 0.5)\n",
    "\n",
    "fake2 = np.array(df_fake12.iloc[:,2])\n",
    "plt.hist(fake2, alpha = 0.5, color = 'red')\n",
    "plt.xlabel(\"regulation\")\n",
    "plt.ylabel(\"numbers\")"
   ]
  },
  {
   "cell_type": "code",
   "execution_count": 2,
   "metadata": {
    "collapsed": false
   },
   "outputs": [],
   "source": [
    "import pandas as pd\n",
    "import numpy as np\n",
    "import matplotlib.pyplot as plt\n",
    "%matplotlib inline\n",
    "\n",
    "df_real11 = pd.read_csv('real11.csv')\n",
    "df_real11.columns = ['id0','id', 'num', 'attention', 'fans']\n",
    "df_real21 = pd.read_csv('real21.csv')\n",
    "df_real21.columns = ['id0','id', 'num', 'attention', 'fans']\n",
    "df_real31 = pd.read_csv('real31.csv')\n",
    "df_real31.columns = ['id0','id', 'num', 'attention', 'fans']\n",
    "\n",
    "df_real12 = pd.read_csv('real12.csv')\n",
    "df_real22 = pd.read_csv('real22.csv')\n",
    "df_real32 = pd.read_csv('real32.csv')\n",
    "\n",
    "df_real = pd.concat([df_real11, df_real21, df_real31], axis = 0)\n",
    "df_real['zombie'] = 0\n",
    "\n",
    "df_data1 = pd.read_csv('data1.csv')\n",
    "df_data1.columns = ['id0','id', 'num', 'attention', 'fans']\n",
    "df_fake11 = pd.read_csv('fake21.csv')\n",
    "df_fake11.columns = ['id0','id', 'num', 'attention', 'fans']\n",
    "\n",
    "df_fake = pd.concat([df_data1, df_fake11], axis = 0)\n",
    "df_fake['zombie'] = 1\n",
    "\n",
    "df_real = df_real[['id', 'num', 'attention', 'fans', 'zombie']]\n",
    "df_fake = df_fake[['id', 'num', 'attention', 'fans', 'zombie']]\n",
    "df_total = pd.concat([df_real, df_fake], axis = 0)"
   ]
  },
  {
   "cell_type": "code",
   "execution_count": 69,
   "metadata": {
    "collapsed": false
   },
   "outputs": [
    {
     "data": {
      "text/plain": [
       "<matplotlib.text.Text at 0x7f275ee292d0>"
      ]
     },
     "execution_count": 69,
     "metadata": {},
     "output_type": "execute_result"
    },
    {
     "data": {
      "image/png": "[encoded data removed]",
      "text/plain": [
       "<matplotlib.figure.Figure at 0x7f276b5f0e50>"
      ]
     },
     "metadata": {},
     "output_type": "display_data"
    }
   ],
   "source": [
    "df_realq = df_real.iloc[:, 1:5]\n",
    "df_fakeq = df_fake.iloc[:, 1:5]\n",
    "df_totalq = df_total.iloc[:, 1:5]\n",
    "df_realq_normal = df_realq.loc[(df_realq.attention <400)&(df_realq.num < 1000)&(df_realq.fans < 1000)]\n",
    "df_fakeq_normal = df_fakeq.loc[(df_fakeq.attention <400)&(df_fakeq.num < 1000)&(df_fakeq.fans < 1000)]\n",
    "df_totalq_normal = df_totalq.loc[(df_totalq.attention <400)&(df_totalq.num < 1000)&(df_totalq.fans < 1000)]\n",
    "\n",
    "real = np.array(df_realq)\n",
    "detect = np.array(df_real21)\n",
    "fake = np.array(df_fakeq)\n",
    "\n",
    "plt.scatter(real[:,2], real[:,1], alpha = 0.5, marker = 'o', color = \"r\")\n",
    "plt.scatter(fake[:,2], fake[:,1], alpha = 0.5, marker = 'o', color = \"b\")\n",
    "\n",
    "plt.xlabel(\"Number\")\n",
    "plt.ylabel(\"Attention Number\")"
   ]
  },
  {
   "cell_type": "code",
   "execution_count": 61,
   "metadata": {
    "collapsed": false
   },
   "outputs": [
    {
     "data": {
      "text/plain": [
       "<matplotlib.text.Text at 0x7f276aa2ff10>"
      ]
     },
     "execution_count": 61,
     "metadata": {},
     "output_type": "execute_result"
    },
    {
     "data": {
      "image/png": "[encoded data removed]",
      "text/plain": [
       "<matplotlib.figure.Figure at 0x7f276aa70210>"
      ]
     },
     "metadata": {},
     "output_type": "display_data"
    }
   ],
   "source": [
    "real =  np.array(df_realq_normal)\n",
    "fake = np.array(df_fakeq_normal)\n",
    "plt.scatter(real[:,2], real[:,1], alpha = 0.5, marker = 'o', color = \"r\")\n",
    "plt.scatter(fake[:,2], fake[:,1], alpha = 0.5, marker = 'o', color = \"b\")\n",
    "\n",
    "plt.xlabel(\"Number\")\n",
    "plt.ylabel(\"Attention Number\")"
   ]
  },
  {
   "cell_type": "markdown",
   "metadata": {},
   "source": [
    "### Train Test Split "
   ]
  },
  {
   "cell_type": "code",
   "execution_count": 62,
   "metadata": {
    "collapsed": false
   },
   "outputs": [
    {
     "name": "stdout",
     "output_type": "stream",
     "text": [
      "[[  8  43 110   0]\n",
      " [ 25  88 192   0]\n",
      " [128 126 587   0]\n",
      " [273 267 192   0]\n",
      " [279 194 890   0]]\n"
     ]
    },
    {
     "name": "stderr",
     "output_type": "stream",
     "text": [
      "/usr/local/lib/python2.7/dist-packages/sklearn/cross_validation.py:44: DeprecationWarning: This module was deprecated in version 0.18 in favor of the model_selection module into which all the refactored classes and functions are moved. Also note that the interface of the new CV iterators are different from that of this module. This module will be removed in 0.20.\n",
      "  \"This module will be removed in 0.20.\", DeprecationWarning)\n"
     ]
    }
   ],
   "source": [
    "total = np.array(df_totalq_normal)\n",
    "print total[:5]\n",
    "from sklearn.cross_validation import train_test_split\n",
    "XTrain, XTest, yTrain, yTest = train_test_split(total[:, :3], total[:, 3], test_size = 0.25)"
   ]
  },
  {
   "cell_type": "markdown",
   "metadata": {},
   "source": [
    "## Use The Model "
   ]
  },
  {
   "cell_type": "code",
   "execution_count": 64,
   "metadata": {
    "collapsed": false
   },
   "outputs": [],
   "source": [
    "from sklearn.ensemble import RandomForestClassifier\n",
    "#model = RandomForestClassifier(n_estimators = 1000)\n",
    "#model.fit(XTrain, yTrain)\n",
    "#ypred = model.predict(XTest)\n",
    "from sklearn.linear_model import LogisticRegression\n",
    "model = LogisticRegression(fit_intercept = True)\n",
    "model.fit(XTrain, yTrain)\n",
    "ypred = model.predict(XTest)\n"
   ]
  },
  {
   "cell_type": "markdown",
   "metadata": {},
   "source": [
    "## Parameters Turning"
   ]
  },
  {
   "cell_type": "code",
   "execution_count": 65,
   "metadata": {
    "collapsed": false
   },
   "outputs": [
    {
     "data": {
      "text/plain": [
       "GridSearchCV(cv=None, error_score='raise',\n",
       "       estimator=RandomForestClassifier(bootstrap=True, class_weight=None, criterion='gini',\n",
       "            max_depth=None, max_features='auto', max_leaf_nodes=None,\n",
       "            min_impurity_split=1e-07, min_samples_leaf=1,\n",
       "            min_samples_split=2, min_weight_fraction_leaf=0.0,\n",
       "            n_estimators=10, n_jobs=1, oob_score=False, random_state=None,\n",
       "            verbose=0, warm_start=False),\n",
       "       fit_params={}, iid=True, n_jobs=1,\n",
       "       param_grid={'bootstrap': [True, False], 'min_samples_leaf': [1, 9, 15], 'n_estimators': [500], 'criterion': ['gini', 'entropy'], 'min_samples_split': [3, 9, 15], 'max_depth': [1, 9, 15, None]},\n",
       "       pre_dispatch='2*n_jobs', refit=True, scoring=None, verbose=0)"
      ]
     },
     "execution_count": 65,
     "metadata": {},
     "output_type": "execute_result"
    }
   ],
   "source": [
    "from sklearn.grid_search import GridSearchCV\n",
    "\n",
    "param_grid = {'n_estimators':[500], \n",
    "              'max_depth':[1,9,15,None],\n",
    "              'min_samples_split':[3,9,15],\n",
    "              'min_samples_leaf':[1,9,15],\n",
    "              'bootstrap':[True, False],\n",
    "              'criterion':['gini', 'entropy']}\n",
    "\n",
    "grid = GridSearchCV(RandomForestClassifier(), param_grid)\n",
    "\n",
    "grid.fit(total[:, :3], total[:, 3])"
   ]
  },
  {
   "cell_type": "code",
   "execution_count": 68,
   "metadata": {
    "collapsed": false
   },
   "outputs": [
    {
     "name": "stdout",
     "output_type": "stream",
     "text": [
      "{'bootstrap': True, 'min_samples_leaf': 15, 'n_estimators': 500, 'criterion': 'gini', 'min_samples_split': 3, 'max_depth': 9}\n"
     ]
    }
   ],
   "source": [
    "print grid.best_params_\n",
    "model = grid.best_estimator_\n",
    "model.fit(XTrain, yTrain)\n",
    "ypred = model.predict(XTest)"
   ]
  },
  {
   "cell_type": "markdown",
   "metadata": {},
   "source": [
    "## Prediction"
   ]
  },
  {
   "cell_type": "code",
   "execution_count": 106,
   "metadata": {
    "collapsed": false
   },
   "outputs": [
    {
     "name": "stdout",
     "output_type": "stream",
     "text": [
      "关晓彤的僵尸粉比例为 5.81113801453%\n",
      "僵尸粉的信息： id           痞味仙女88487 男/其他         \n",
      "num                                0\n",
      "attention                         68\n",
      "fans                               1\n",
      "zombie                             0\n",
      "Name: 7, dtype: object\n",
      "\n",
      "僵尸粉用户名列表\n",
      "痞味仙女88487 男/其他         \n",
      "凯旋70462 男/其他         \n",
      "我的大佬6344700134\n",
      "用户6382924003 男/广东         \n",
      "用户6343770980 男/四川         \n",
      "被爱的我不够好_259 女/广西         \n",
      "用户6388334733 男/新疆         \n",
      "白心如啊\n",
      "loveyouaslovelife95368 男/其他         \n",
      "唐二白63919 男/其他         \n",
      "TYO菲力59269 男/其他         \n",
      "翔羽凌空展 男/其他         \n",
      "用户6388166652 男/其他         \n",
      "霸气qzuser87871 男/其他         \n",
      "大姑娘童话 男/其他         \n",
      "用户5491674957 男/重庆         \n",
      "CPK02387 男/其他         \n",
      "科里昂阁下要加油\n",
      "罗罗亚3 男/广东         \n",
      "用户6394307109 男/其他         \n",
      "用户8569604825 男/北京         \n",
      "用户5924241628 男/其他         \n",
      "爱的梦境53655 男/其他         \n",
      "用户8566747187 男/北京         \n"
     ]
    }
   ],
   "source": [
    "ydetect = model.predict(real[:, :3])\n",
    "print '关晓彤的僵尸粉比例为 ' + str((sum(ydetect)+0.0)/len(ydetect)*100) +'%'\n",
    "r = list(ydetect)\n",
    "app = []\n",
    "for i in range(len(r)):\n",
    "    if r[i] ==1:\n",
    "        app.append(i)\n",
    "print '僵尸粉的信息：',df_real.iloc[97]\n",
    "print ''\n",
    "print '僵尸粉用户名列表'\n",
    "for i in app:\n",
    "    print df_real.iloc[i]['id']"
   ]
  },
  {
   "cell_type": "code",
   "execution_count": 67,
   "metadata": {
    "collapsed": false
   },
   "outputs": [
    {
     "name": "stdout",
     "output_type": "stream",
     "text": [
      "             precision    recall  f1-score   support\n",
      "\n",
      "          0       0.87      0.77      0.82        88\n",
      "          1       0.69      0.81      0.75        54\n",
      "\n",
      "avg / total       0.80      0.79      0.79       142\n",
      "\n"
     ]
    }
   ],
   "source": [
    "from sklearn import metrics\n",
    "print (metrics.classification_report(ypred, yTest))"
   ]
  },
  {
   "cell_type": "code",
   "execution_count": null,
   "metadata": {
    "collapsed": true
   },
   "outputs": [],
   "source": []
  }
 ],
 "metadata": {
  "kernelspec": {
   "display_name": "Python 2",
   "language": "python",
   "name": "python2"
  },
  "language_info": {
   "codemirror_mode": {
    "name": "ipython",
    "version": 2
   },
   "file_extension": ".py",
   "mimetype": "text/x-python",
   "name": "python",
   "nbconvert_exporter": "python",
   "pygments_lexer": "ipython2",
   "version": "2.7.6"
  }
 },
 "nbformat": 4,
 "nbformat_minor": 1
}
