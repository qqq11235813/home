{
 "cells": [
  {
   "cell_type": "code",
   "execution_count": 1,
   "metadata": {
    "collapsed": true
   },
   "outputs": [],
   "source": [
    "import matplotlib\n",
    "matplotlib.use('TkAgg')\n",
    "\n",
    "import numpy as np\n",
    "from matplotlib.backends.backend_tkagg import FigureCanvasTkAgg, NavigationToolbar2TkAgg\n",
    "from matplotlib.backend_bases import key_press_handler\n",
    "from matplotlib.figure import Figure\n",
    "import Tkinter\n",
    "import time\n",
    "\n",
    "def  init(data):\n",
    "    data.timerDelay=10\n",
    "    data.x=np.arange(0.0,3.0,0.01)\n",
    "    data.t=0\n",
    "    data.omigaP=0\n",
    "    data.omigaG=0\n",
    "\n",
    "def sliderPressed(slider,data,flag):\n",
    "    scale=slider.get()\n",
    "    #scale=10\n",
    "    if(flag=='GroupV'):\n",
    "        data.omigaG=float(scale)/100\n",
    "    elif(flag=='PhaseV'):\n",
    "        data.omigaP=float(scale)/100\n",
    "    else:print 'not a suitable variable'\n",
    "\n",
    "def timerFired(data):\n",
    "    data.t+=1\n",
    "\n",
    "def redrawAll(ax,data):\n",
    "    x0=data.x\n",
    "    omigaP0=data.omigaP\n",
    "    omigaG0=data.omigaG\n",
    "    t0=data.t\n",
    "    y=np.cos(np.pi*(3*x0-(omigaP0+omigaG0)*t0))+np.cos(np.pi*(2*x0-(omigaP0-omigaG0)*t0))\n",
    "    z=2*np.cos(np.pi*(0.5*x0-omigaG0*t0))\n",
    "\n",
    "    ax.plot(x0,y)\n",
    "    ax.plot(x0,z)\n",
    "    \n",
    "def run():\n",
    "    def redrawAllWrapper(canvas,ax,data):\n",
    "        ax.clear()\n",
    "        redrawAll(ax,data)\n",
    "\n",
    "        canvas.show()\n",
    "\n",
    "    def sliderPressedWrapper(event,canvas,ax,slider,data,flag):\n",
    "        sliderPressed(slider,data,flag)\n",
    "        redrawAllWrapper(canvas,ax,data)\n",
    "\n",
    "    def timerFiredWrapper(canvasWhole,canvas,ax,data):\n",
    "        timerFired(data)\n",
    "        redrawAllWrapper(canvas,ax,data)\n",
    "        canvasWhole.after(data.timerDelay,timerFiredWrapper,canvasWhole,canvas,ax,data)\n",
    "    \n",
    "    ########################################################\n",
    "                  #init\n",
    "    ##################################################\n",
    "    class Struct(object):pass\n",
    "    data=Struct()\n",
    "    init(data)\n",
    "    root=Tkinter.Tk()\n",
    "    root.wm_title(\"Phase Velocity and Group Velocity\")\n",
    "\n",
    "    fig=Figure(figsize=(8,8),dpi=100)\n",
    "    ax=fig.add_subplot(111)\n",
    "    canvas=FigureCanvasTkAgg(fig,master=root)\n",
    "    canvas.show()\n",
    "    canvas.get_tk_widget().pack(side=Tkinter.TOP, fill=Tkinter.BOTH, expand=1)\n",
    "\n",
    "    canvasWhole=Tkinter.Canvas(root,width=1000,height=50)\n",
    "    canvasWhole.pack()\n",
    "    #############################################################\n",
    "    \n",
    "    ###########################################################\n",
    "    #animation\n",
    "    ############################################################\n",
    "    timerFiredWrapper(canvasWhole,canvas,ax,data)\n",
    "    ################################################################\n",
    "    \n",
    "    #######################################################\n",
    "    #slider\n",
    "    #########################################################\n",
    "    slider_GroupV=Tkinter.Scale(master=root,from_=-10.0,to=10.0,resolution=0.1,\n",
    "                     label=\"group velocity\",\n",
    "                     orient=Tkinter.HORIZONTAL,\n",
    "                     length=500,\n",
    "                     )\n",
    "    slider_PhaseV=Tkinter.Scale(master=root,from_=-10.0,to=10.0,resolution=0.1,\n",
    "                     label=\"phase velocity\",\n",
    "                     orient=Tkinter.HORIZONTAL,\n",
    "                     length=500,\n",
    "                     )\n",
    "    slider_GroupV.pack()\n",
    "    slider_PhaseV.pack()\n",
    "    slider_GroupV.bind(\"<ButtonRelease-1>\",lambda event:sliderPressedWrapper(event,canvas,ax,slider_GroupV,data,'GroupV'))\n",
    "    slider_PhaseV.bind(\"<ButtonRelease-1>\",lambda event:sliderPressedWrapper(event,canvas,ax,slider_PhaseV,data,'PhaseV'))\n",
    "    ##########################################################\n",
    "    \n",
    "    root.mainloop()\n",
    "\n",
    "run()\n"
   ]
  },
  {
   "cell_type": "code",
   "execution_count": 4,
   "metadata": {
    "collapsed": false
   },
   "outputs": [
    {
     "data": {
      "text/plain": [
       "<matplotlib.text.Text at 0x7f0299787490>"
      ]
     },
     "execution_count": 4,
     "metadata": {},
     "output_type": "execute_result"
    }
   ],
   "source": [
    "from pylab import *\n",
    "from numpy import ma\n",
    "\n",
    "X,Y = meshgrid( arange(0,2*pi,.2),arange(0,2*pi,.2) )\n",
    "U = cos(X)\n",
    "V = sin(Y)\n",
    "\n",
    "#1\n",
    "figure()\n",
    "Q = quiver( U, V)\n",
    "qk = quiverkey(Q, 0.5, 0.92, 2, r'$2 \\frac{m}{s}$', labelpos='W',\n",
    "               fontproperties={'weight': 'bold'})\n",
    "l,r,b,t = axis()\n",
    "dx, dy = r-l, t-b\n",
    "axis([l-0.05*dx, r+0.05*dx, b-0.05*dy, t+0.05*dy])\n",
    "\n",
    "title('Minimal arguments, no kwargs')"
   ]
  },
  {
   "cell_type": "code",
   "execution_count": null,
   "metadata": {
    "collapsed": true
   },
   "outputs": [],
   "source": []
  }
 ],
 "metadata": {
  "kernelspec": {
   "display_name": "Python 2",
   "language": "python",
   "name": "python2"
  },
  "language_info": {
   "codemirror_mode": {
    "name": "ipython",
    "version": 2
   },
   "file_extension": ".py",
   "mimetype": "text/x-python",
   "name": "python",
   "nbconvert_exporter": "python",
   "pygments_lexer": "ipython2",
   "version": "2.7.6"
  }
 },
 "nbformat": 4,
 "nbformat_minor": 1
}
