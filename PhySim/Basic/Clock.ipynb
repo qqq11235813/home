{
 "cells": [
  {
   "cell_type": "code",
   "execution_count": 32,
   "metadata": {
    "collapsed": false
   },
   "outputs": [],
   "source": [
    "import sys\n",
    "import random\n",
    "import math\n",
    "import os\n",
    "import getopt\n",
    "from socket import *\n",
    "import pygame as pg\n",
    "from pygame.locals import *"
   ]
  },
  {
   "cell_type": "code",
   "execution_count": 18,
   "metadata": {
    "collapsed": false
   },
   "outputs": [],
   "source": [
    "pg.init()\n",
    "pg.display.set_caption(\"a\")\n",
    "\n",
    "BLACK=(0,0,0)\n",
    "WHITE=(255,255,255)\n",
    "GREEN=(0,255,0)\n",
    "RED=(255,0,0)\n",
    "\n",
    "size=(700,700)\n",
    "screen=pg.display.set_mode(size)\n",
    "#screen.fill(RED)\n",
    "pg.draw.circle(screen,RED,[50,50],30)\n",
    "\n",
    "done=False\n",
    "\n",
    "clock=pg.time.Clock()\n",
    "\n",
    "while not done:\n",
    "    for event in pg.event.get():\n",
    "        if event.type==pg.QUIT:\n",
    "            done=True\n",
    "\n",
    "    #screen.fill(WHITE)\n",
    "    pg.display.flip()\n",
    "    \n",
    "    clock.tick(60)\n",
    "\n",
    "pg.draw.rect(screen,RED,[50,50,50,50])\n",
    "pg.quit()"
   ]
  },
  {
   "cell_type": "code",
   "execution_count": 37,
   "metadata": {
    "collapsed": true
   },
   "outputs": [],
   "source": [
    "def load_png(name):\n",
    "    \"\"\" Load image and return image object\"\"\"\n",
    "    fullname = os.path.join('data', name)\n",
    "    try:\n",
    "        image = pg.image.load(fullname)\n",
    "        if image.get_alpha() is None:\n",
    "            image = image.convert()\n",
    "        else:\n",
    "            image = image.convert_alpha()\n",
    "    except pg.error, message:\n",
    "        print 'Cannot load image:', fullname\n",
    "        raise SystemExit, message\n",
    "    return image, image.get_rect()"
   ]
  },
  {
   "cell_type": "code",
   "execution_count": 44,
   "metadata": {
    "collapsed": false
   },
   "outputs": [],
   "source": [
    "class Ball(pg.sprite.Sprite):\n",
    "    \n",
    "    def __init__(self,vector):\n",
    "        pg.sprite.Sprite.__init__(self)\n",
    "        self.image,self.rect=load_png(\"/home/frank/ball.png\")\n",
    "        screen=pg.display.get_surface()\n",
    "        self.area=screen.get_rect()\n",
    "        self.vector=vector\n",
    "    \n",
    "    def update(self):\n",
    "        newPos=self.calcNewPose(self.rect,self.vector)\n",
    "        self.rect=newPos\n",
    "    \n",
    "    def calcNewPose(self,rect,vector):\n",
    "    \t(angle,z)=vector\n",
    "        (dx,dy)=(z*math.cos(angle),z*math.sin(angle))\n",
    "    \treturn rect.move(dx,dy)\n",
    "\n",
    "def main():\n",
    "\n",
    "    size=(700,700)\n",
    "    screen=pg.display.set_mode(size)\n",
    "    ball=Ball((1,300))\n",
    "\n",
    "\n",
    "    done=False\n",
    "    while not done:\n",
    "        for event in pg.event.get():\n",
    "            if event.type==pg.QUIT:\n",
    "                done=True\n",
    "        ball.update()\n",
    "    pg.quit()\n",
    "    \n",
    "main()\t"
   ]
  },
  {
   "cell_type": "code",
   "execution_count": null,
   "metadata": {
    "collapsed": true
   },
   "outputs": [],
   "source": []
  }
 ],
 "metadata": {
  "kernelspec": {
   "display_name": "Python 2",
   "language": "python",
   "name": "python2"
  },
  "language_info": {
   "codemirror_mode": {
    "name": "ipython",
    "version": 2
   },
   "file_extension": ".py",
   "mimetype": "text/x-python",
   "name": "python",
   "nbconvert_exporter": "python",
   "pygments_lexer": "ipython2",
   "version": "2.7.6"
  }
 },
 "nbformat": 4,
 "nbformat_minor": 1
}
