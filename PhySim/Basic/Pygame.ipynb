{
 "cells": [
  {
   "cell_type": "code",
   "execution_count": 4,
   "metadata": {
    "collapsed": true
   },
   "outputs": [],
   "source": [
    "import pygame as pg\n",
    "import math"
   ]
  },
  {
   "cell_type": "code",
   "execution_count": 5,
   "metadata": {
    "collapsed": true
   },
   "outputs": [],
   "source": [
    "class Particle:\n",
    "    def __init__(self,(x,y),size):\n",
    "        self.angle=math.pi/2\n",
    "        self.speed=0.1\n",
    "        self.x=x\n",
    "        self.y=y\n",
    "        self.size=size\n",
    "        self.colour=(0,0,255)\n",
    "        self.thickness=2\n",
    "    \n",
    "    def display(self):\n",
    "        pg.draw.circle(screen,self.colour,(int(self.x),int(self.y)),self.size,self.thickness)\n",
    "        \n",
    "    def move(self):\n",
    "        gravity=(math.pi,-0.0001)\n",
    "        now=(self.angle,self.speed)\n",
    "        (self.angle,self.speed)=self.addVector(now,gravity)\n",
    "        \n",
    "        self.x+=math.sin(self.angle)*self.speed\n",
    "        self.y+=math.cos(self.angle)*self.speed\n",
    "        \n",
    "    \n",
    "    def addVector(self,(angle1,length1),(angle2,length2)):\n",
    "        x=math.sin(angle1)*length1+math.sin(angle2)*length2\n",
    "        y=math.cos(angle1)*length1+math.cos(angle2)*length2\n",
    "        \n",
    "        length=math.hypot(x,y)\n",
    "        angle=0.5*math.pi-math.atan2(y,x)\n",
    "        return (angle,length)\n",
    "    \n",
    "    def findParticle(self,particles,mouseX,mouseY):\n",
    "        for p in particles:\n",
    "            if math.hypot(p.x-mouseX,p.y-mouseY)<=p.size:\n",
    "                p.colour=(255,0,0)\n",
    "                return p\n",
    "        return None\n",
    "        \n",
    "    def dragParticle(self,mouseX,mouseY):\n",
    "        if particle!=None:\n",
    "            self.x=mouseX;\n",
    "            self.y=mouseY\n",
    "            dx=mouseX-self.x\n",
    "            dy=mouseY-self.y\n",
    "            self.angle=math.atan2(dy,dx)+0.5*math.pi\n",
    "            self.speed=math.hypot(dx,dy)*1\n",
    "\n"
   ]
  },
  {
   "cell_type": "code",
   "execution_count": 6,
   "metadata": {
    "collapsed": false
   },
   "outputs": [],
   "source": [
    "screen=pg.display.set_mode((700,700))\n",
    "backgroundColor=(255,255,255)\n",
    "screen.fill(backgroundColor)\n",
    "\n",
    "particle=Particle((100,100),1)\n",
    "numParticle=2\n",
    "myParticles=[]\n",
    "myParticles.append(Particle((100,100),20))\n",
    "myParticles.append(Particle((200,200),30))\n",
    "dragP=None\n",
    "    \n",
    "running=True\n",
    "pg.display.set_caption('T')\n",
    "\n",
    "while running:\n",
    "    for event in pg.event.get():\n",
    "        if event.type==pg.QUIT:\n",
    "            running=False\n",
    "        \n",
    "        if event.type==pg.MOUSEBUTTONDOWN:\n",
    "            (mouseX,mouseY)=pg.mouse.get_pos()\n",
    "            dragP=particle.findParticle(myParticles,mouseX,mouseY)\n",
    "            \n",
    "        elif event.type==pg.MOUSEBUTTONUP:\n",
    "            dragP=None\n",
    "            \n",
    "    screen.fill(backgroundColor)\n",
    "\n",
    "    if dragP:\n",
    "        (mouseX,mouseY)=pg.mouse.get_pos()\n",
    "        dragP.dragParticle(mouseX,mouseY)\n",
    "        \n",
    "    for particle in myParticles:\n",
    "        if particle!=dragP:\n",
    "            particle.move()\n",
    "        particle.display()\n",
    "        \n",
    "        \n",
    "    \n",
    "    pg.display.flip()\n",
    "\n",
    "pg.quit()    "
   ]
  },
  {
   "cell_type": "code",
   "execution_count": 14,
   "metadata": {
    "collapsed": true
   },
   "outputs": [],
   "source": [
    "import matplotlib\n",
    "matplotlib.use(\"Agg\")\n",
    "import matplotlib.backends.backend_agg as agg\n",
    "import pylab\n",
    "\n",
    "fig = pylab.figure(figsize=[6, 6], # Inches\n",
    "                   dpi=100,        # 100 dots per inch, so the resulting buffer is 400x400 pixels\n",
    "                  )\n",
    "ax = fig.gca()\n",
    "ax.plot([1, 2, 4])\n",
    "\n",
    "canvas = agg.FigureCanvasAgg(fig)\n",
    "canvas.draw()\n",
    "renderer = canvas.get_renderer()\n",
    "raw_data = renderer.tostring_rgb()\n",
    "\n",
    "pg.init()\n",
    "\n",
    "window=pg.display.set_mode((600,600))\n",
    "screen2=pg.display.get_surface()\n",
    "\n",
    "size=canvas.get_width_height()\n",
    "\n",
    "surf=pg.image.fromstring(raw_data,size,\"RGB\")\n",
    "screen2.blit(surf,(0,0))\n",
    "\n",
    "running=True\n",
    "while running:\n",
    "    for event in pg.event.get():\n",
    "        if event.type==pg.QUIT:\n",
    "            running=False\n",
    "   \n",
    "    pg.display.flip()\n",
    "    \n",
    "pg.quit()   "
   ]
  },
  {
   "cell_type": "code",
   "execution_count": 19,
   "metadata": {
    "collapsed": true
   },
   "outputs": [],
   "source": [
    "\n"
   ]
  },
  {
   "cell_type": "code",
   "execution_count": null,
   "metadata": {
    "collapsed": true
   },
   "outputs": [],
   "source": []
  }
 ],
 "metadata": {
  "kernelspec": {
   "display_name": "Python 2",
   "language": "python",
   "name": "python2"
  },
  "language_info": {
   "codemirror_mode": {
    "name": "ipython",
    "version": 2
   },
   "file_extension": ".py",
   "mimetype": "text/x-python",
   "name": "python",
   "nbconvert_exporter": "python",
   "pygments_lexer": "ipython2",
   "version": "2.7.6"
  }
 },
 "nbformat": 4,
 "nbformat_minor": 1
}
