{
 "cells": [
  {
   "cell_type": "code",
   "execution_count": 202,
   "metadata": {
    "collapsed": false
   },
   "outputs": [],
   "source": [
    "import numpy as np\n",
    "from matplotlib import pyplot as plt\n",
    "from matplotlib import animation\n",
    "from matplotlib.widgets import Slider\n",
    "import pylab"
   ]
  },
  {
   "cell_type": "code",
   "execution_count": 203,
   "metadata": {
    "collapsed": false
   },
   "outputs": [],
   "source": [
    "fig,ax=plt.subplots()\n",
    "plt.subplots_adjust(left=0.25,bottom=0.25)\n",
    "#fig=plt.figure()\n",
    "ax=plt.axes(xlim=(0,2),ylim=(-2,2))\n",
    "l,=ax.plot([],[],lw=2)"
   ]
  },
  {
   "cell_type": "code",
   "execution_count": 204,
   "metadata": {
    "collapsed": false
   },
   "outputs": [],
   "source": [
    "time=0.5;amp=1.0\n",
    "\n",
    "def init():\n",
    "    l.set_data([],[])\n",
    "    return l,\n",
    "\n",
    "def animate(i):\n",
    "    x=np.arange(0.0,2.0,0.001)\n",
    "    y=amp*np.sin(time*np.pi*(x-0.02*i))\n",
    "    l.set_data(x,y)\n",
    "    return l,\n",
    "    # plt.axes([0,1,-10,10])\n",
    "\n",
    "def simData():\n",
    "    iMax=20.0\n",
    "ani=animation.FuncAnimation(fig,animate,init_func=init,frames=5,interval=20,blit=False)\n",
    "\n",
    "\n",
    "#plt.show()"
   ]
  },
  {
   "cell_type": "code",
   "execution_count": 205,
   "metadata": {
    "collapsed": false
   },
   "outputs": [],
   "source": [
    "\n",
    "axTime=plt.axes([0.15,0.1,0.65,0.03])\n",
    "axAmp=plt.axes([0.15,0.15,0.65,0.03])\n",
    "\n",
    "Time=Slider(axTime,'test',1,10,valinit=1)\n",
    "Amp=Slider(axAmp,'amplitude',1,3,valinit=1)\n",
    "\n",
    "#plt.show()"
   ]
  },
  {
   "cell_type": "code",
   "execution_count": 206,
   "metadata": {
    "collapsed": false
   },
   "outputs": [],
   "source": [
    "def update(val):\n",
    "    time=Time.val;amp=Amp.val\n",
    "    #fig.clr()\n",
    "    #ani.frame_seq=ani.new_frame_seq()\n",
    "    ani=animation.FuncAnimation(fig,animate,init_func=init,frames=5,interval=20,blit=False)\n",
    "    \n",
    "Time.on_changed(update)\n",
    "Amp.on_changed(update)\n",
    "\n",
    "plt.show()"
   ]
  },
  {
   "cell_type": "code",
   "execution_count": null,
   "metadata": {
    "collapsed": true
   },
   "outputs": [],
   "source": []
  },
  {
   "cell_type": "code",
   "execution_count": null,
   "metadata": {
    "collapsed": true
   },
   "outputs": [],
   "source": []
  }
 ],
 "metadata": {
  "kernelspec": {
   "display_name": "Python 2",
   "language": "python",
   "name": "python2"
  },
  "language_info": {
   "codemirror_mode": {
    "name": "ipython",
    "version": 2
   },
   "file_extension": ".py",
   "mimetype": "text/x-python",
   "name": "python",
   "nbconvert_exporter": "python",
   "pygments_lexer": "ipython2",
   "version": "2.7.6"
  }
 },
 "nbformat": 4,
 "nbformat_minor": 1
}
