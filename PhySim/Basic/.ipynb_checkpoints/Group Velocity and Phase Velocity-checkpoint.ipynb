{
 "cells": [
  {
   "cell_type": "code",
   "execution_count": 18,
   "metadata": {
    "collapsed": true
   },
   "outputs": [],
   "source": [
    "import matplotlib\n",
    "matplotlib.use('TkAgg')\n",
    "\n",
    "import numpy as np\n",
    "from matplotlib.backends.backend_tkagg import FigureCanvasTkAgg, NavigationToolbar2TkAgg\n",
    "from matplotlib.backend_bases import key_press_handler\n",
    "from matplotlib.figure import Figure\n",
    "import Tkinter\n",
    "import time"
   ]
  },
  {
   "cell_type": "code",
   "execution_count": 19,
   "metadata": {
    "collapsed": false
   },
   "outputs": [],
   "source": [
    "root=Tkinter.Tk()\n",
    "root.wm_title(\"Embedding in TK\")\n",
    "\n",
    "fig=Figure(figsize=(10,4),dpi=100)\n",
    "ax=fig.add_subplot(111)\n",
    "x=np.arange(0.0,3.0,0.001)\n",
    "\n",
    "canvas=FigureCanvasTkAgg(fig,master=root)\n",
    "canvas.show()\n",
    "canvas.get_tk_widget().pack(side=Tkinter.TOP, fill=Tkinter.BOTH, expand=1)\n",
    "\n",
    "toolbar = NavigationToolbar2TkAgg(canvas, root)\n",
    "toolbar.update()\n",
    "canvas._tkcanvas.pack(side=Tkinter.TOP, fill=Tkinter.BOTH, expand=1)\n",
    "\n",
    "def _quit():\n",
    "    root.quit()     \n",
    "    root.destroy()"
   ]
  },
  {
   "cell_type": "code",
   "execution_count": 20,
   "metadata": {
    "collapsed": false
   },
   "outputs": [],
   "source": [
    "animationFlag=False\n",
    "def startAnimation(event):\n",
    "    animationFlag=True\n",
    "    print \"up\"\n",
    "\n",
    "def endAnimation(event):\n",
    "    animationFlag=False\n",
    "    \n",
    "def animation(speed):\n",
    "    t=0\n",
    "    while(animationFlag):\n",
    "        t+=1\n",
    "        \n",
    "        ax.clear()\n",
    "        \n",
    "        y=np.cos(np.pi*(3*x-0.1*t))+np.cos(np.pi*(2*x-speed*t))\n",
    "        z=2*np.cos(np.pi*(0.5*x-(0.1-speed)/2*t))\n",
    "        horizon=x-x\n",
    "        ax.plot(x,horizon)\n",
    "        ax.plot(x,y)\n",
    "        ax.plot(x,z)\n",
    "        \n",
    "        time.sleep(0.01)\n",
    "        canvas.show()\n"
   ]
  },
  {
   "cell_type": "code",
   "execution_count": 21,
   "metadata": {
    "collapsed": false
   },
   "outputs": [
    {
     "name": "stdout",
     "output_type": "stream",
     "text": [
      "up\n",
      "up\n"
     ]
    }
   ],
   "source": [
    "def scaleUpdate(slider):\n",
    "    ax.clear()\n",
    "    scale=slider.get()\n",
    "    speed=float(scale)/100\n",
    "    animation(speed)\n",
    "    #canvas.show()\n",
    "\n",
    "def test(event):\n",
    "    print \"qqq\"\n",
    "\n",
    "slider=Tkinter.Scale(master=root,from_=0,to=40,\n",
    "                     orient=Tkinter.HORIZONTAL,\n",
    "                     length=500)\n",
    "slider.bind(\"<ButtonRelease-1>\",startAnimation)\n",
    "#slider.bind(\"<Button-1>\",endAnimation)\n",
    "slider.pack()\n",
    "\n",
    "scaleUpdate(slider)\n",
    "\n",
    "\n",
    "Tkinter.mainloop()"
   ]
  },
  {
   "cell_type": "code",
   "execution_count": null,
   "metadata": {
    "collapsed": true
   },
   "outputs": [],
   "source": []
  },
  {
   "cell_type": "code",
   "execution_count": null,
   "metadata": {
    "collapsed": false
   },
   "outputs": [],
   "source": [
    "import matplotlib\n",
    "matplotlib.use('TkAgg')\n",
    "\n",
    "import numpy as np\n",
    "from matplotlib.backends.backend_tkagg import FigureCanvasTkAgg, NavigationToolbar2TkAgg\n",
    "from matplotlib.backend_bases import key_press_handler\n",
    "from matplotlib.figure import Figure\n",
    "import Tkinter\n",
    "import time\n",
    "\n",
    "def  init(data):\n",
    "    data.timerDelay=100\n",
    "    data.x=np.arange(0.0,3.0,0.01)\n",
    "    data.t=0\n",
    "    data.speed=0\n",
    "\n",
    "def mousePressed(event,data):\n",
    "    scale=slider.get()\n",
    "    data.speed=float(scale)/100\n",
    "\n",
    "def timerFired(data):\n",
    "    data.t+=1\n",
    "\n",
    "def redrawAll(canvas,ax,data):\n",
    "    x0=data.x\n",
    "    speed0=data.speed\n",
    "    t0=data.t\n",
    "    y=np.cos(np.pi*(3*x0-0.1*t0))+np.cos(np.pi*(2*x0-speed0*t0))\n",
    "    z=2*np.cos(np.pi*(0.5*x0-(0.1-speed0)/2*t0))\n",
    "    \n",
    "    ax.plot(x0,y)\n",
    "    ax.plot(x0,z)\n",
    "\n",
    "def run():\n",
    "    def redrawAllWrapper(canvas,ax,data):\n",
    "        ax.clear()\n",
    "        redrawAll(canvas,ax,data)\n",
    "        canvas.show()\n",
    "\n",
    "    def mousePressedWrapper(event,canvas,ax,data):\n",
    "        mousePressed(event,data)\n",
    "        redrawAllWrapper(canvas,ax,data)\n",
    "\n",
    "    def timerFiredWrapper(canvas,ax,data):\n",
    "        timerFired(data)\n",
    "        redrawAllWrapper(canvas,ax,data)\n",
    "        #canvas.after(data.timerDelay,timerFiredWrapper,canvas,data)\n",
    "        #time.sleep(data.timerDelay)\n",
    "        \n",
    "    class Struct(object):pass\n",
    "    data=Struct()\n",
    "    init(data)\n",
    "    root=Tkinter.Tk()\n",
    "    fig=Figure(figsize=(10,4),dpi=100)\n",
    "    ax=fig.add_subplot(111)\n",
    "    canvas=FigureCanvasTkAgg(fig,master=root)\n",
    "    canvas.show()\n",
    "    canvas.get_tk_widget().pack(side=Tkinter.TOP, fill=Tkinter.BOTH, expand=1)\n",
    "    \n",
    "    timerFiredWrapper(canvas,ax,data)\n",
    "\n",
    "    slider=Tkinter.Scale(master=root,from_=0,to=40,\n",
    "                     orient=Tkinter.HORIZONTAL,\n",
    "                     length=500)\n",
    "    slider.bind(\"<ButtonRelease-1>\",lambda event:mousePressedWrapper(event,ax,canvas,data))\n",
    "\n",
    "    root.mainloop()\n",
    "\n",
    "run()"
   ]
  },
  {
   "cell_type": "code",
   "execution_count": null,
   "metadata": {
    "collapsed": true
   },
   "outputs": [],
   "source": []
  }
 ],
 "metadata": {
  "kernelspec": {
   "display_name": "Python 2",
   "language": "python",
   "name": "python2"
  },
  "language_info": {
   "codemirror_mode": {
    "name": "ipython",
    "version": 2
   },
   "file_extension": ".py",
   "mimetype": "text/x-python",
   "name": "python",
   "nbconvert_exporter": "python",
   "pygments_lexer": "ipython2",
   "version": "2.7.6"
  }
 },
 "nbformat": 4,
 "nbformat_minor": 1
}
