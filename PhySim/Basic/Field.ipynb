{
 "cells": [
  {
   "cell_type": "code",
   "execution_count": 15,
   "metadata": {
    "collapsed": false
   },
   "outputs": [],
   "source": [
    "from mpl_toolkits.mplot3d import axes3d\n",
    "from matplotlib import pyplot  as plt\n",
    "import numpy as np\n",
    "\n",
    "fig,ax=plt.subplots()\n",
    "\n",
    "#make grid\n",
    "x,y=np.meshgrid(np.arange(-1.0,1.0,0.1),np.arange(-1.0,1.0,0.1))\n",
    "x1=x-0.1\n",
    "x2=x+0.1\n",
    "#make arrow data\n",
    "u=x\n",
    "v=y\n",
    "#u=x1+x2\n",
    "#v=y\n",
    "\n",
    "ax.quiver(x,y,u,v)\n",
    "#treamplot(x,y,u,v)\n",
    "plt.show()"
   ]
  },
  {
   "cell_type": "code",
   "execution_count": 16,
   "metadata": {
    "collapsed": false
   },
   "outputs": [
    {
     "name": "stderr",
     "output_type": "stream",
     "text": [
      "Exception in Tkinter callback\n",
      "Traceback (most recent call last):\n",
      "  File \"/usr/lib/python2.7/lib-tk/Tkinter.py\", line 1489, in __call__\n",
      "    return self.func(*args)\n",
      "  File \"/usr/lib/pymodules/python2.7/matplotlib/backends/backend_tkagg.py\", line 276, in resize\n",
      "    self.show()\n",
      "  File \"/usr/lib/pymodules/python2.7/matplotlib/backends/backend_tkagg.py\", line 348, in draw\n",
      "    FigureCanvasAgg.draw(self)\n",
      "  File \"/usr/lib/pymodules/python2.7/matplotlib/backends/backend_agg.py\", line 451, in draw\n",
      "    self.figure.draw(self.renderer)\n",
      "  File \"/usr/lib/pymodules/python2.7/matplotlib/artist.py\", line 55, in draw_wrapper\n",
      "    draw(artist, renderer, *args, **kwargs)\n",
      "  File \"/usr/lib/pymodules/python2.7/matplotlib/figure.py\", line 1034, in draw\n",
      "    func(*args)\n",
      "  File \"/usr/lib/pymodules/python2.7/mpl_toolkits/mplot3d/axes3d.py\", line 248, in draw\n",
      "    for col in self.collections]\n",
      "AttributeError: 'Quiver' object has no attribute 'do_3d_projection'\n"
     ]
    }
   ],
   "source": [
    "import matplotlib.pyplot as plt\n",
    "from mpl_toolkits.mplot3d import Axes3D\n",
    "import numpy as np\n",
    "\n",
    "soa = np.array([[0, 0, 1, 1, -2, 0], [0, 0, 2, 1, 1, 0],\n",
    "                [0, 0, 3, 2, 1, 0], [0, 0, 4, 0.5, 0.7, 0]])\n",
    "\n",
    "X, Y, Z, U, V, W = zip(*soa)\n",
    "fig = plt.figure()\n",
    "ax = fig.add_subplot(111, projection='3d')\n",
    "ax.quiver(X, Y, Z, U, V, W)\n",
    "ax.set_xlim([-1, 0.5])\n",
    "ax.set_ylim([-1, 1.5])\n",
    "ax.set_zlim([-1, 8])\n",
    "plt.show()"
   ]
  },
  {
   "cell_type": "code",
   "execution_count": null,
   "metadata": {
    "collapsed": true
   },
   "outputs": [],
   "source": []
  }
 ],
 "metadata": {
  "kernelspec": {
   "display_name": "Python 2",
   "language": "python",
   "name": "python2"
  },
  "language_info": {
   "codemirror_mode": {
    "name": "ipython",
    "version": 2
   },
   "file_extension": ".py",
   "mimetype": "text/x-python",
   "name": "python",
   "nbconvert_exporter": "python",
   "pygments_lexer": "ipython2",
   "version": "2.7.6"
  }
 },
 "nbformat": 4,
 "nbformat_minor": 1
}
