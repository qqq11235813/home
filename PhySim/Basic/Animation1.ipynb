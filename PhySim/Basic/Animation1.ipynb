{
 "cells": [
  {
   "cell_type": "code",
   "execution_count": 237,
   "metadata": {
    "collapsed": false
   },
   "outputs": [],
   "source": [
    "from matplotlib.widgets import Slider\n",
    "import matplotlib.pyplot as plt\n",
    "import numpy as np\n",
    "import time"
   ]
  },
  {
   "cell_type": "code",
   "execution_count": 238,
   "metadata": {
    "collapsed": true
   },
   "outputs": [],
   "source": [
    "fig,ax=plt.subplots()\n",
    "plt.subplots_adjust(left=0.25,bottom=0.25)\n",
    "ax=plt.axes(xlim=(0,2),ylim=(-2,2))\n",
    "l,=ax.plot([],[],lw=2)"
   ]
  },
  {
   "cell_type": "code",
   "execution_count": 239,
   "metadata": {
    "collapsed": true
   },
   "outputs": [],
   "source": [
    "def update(t):\n",
    "    x=np.arange(0.0,2.0,0.001)\n",
    "    y=np.sin(1*np.pi*(x-0.05*t))\n",
    "    return x,y"
   ]
  },
  {
   "cell_type": "code",
   "execution_count": 240,
   "metadata": {
    "collapsed": false
   },
   "outputs": [],
   "source": [
    "axTime=plt.axes([0.15,0.1,0.65,0.03])\n",
    "axAmp=plt.axes([0.15,0.15,0.65,0.03])\n",
    "\n",
    "Time=Slider(axTime,'test',1,10,valinit=1)\n",
    "Amp=Slider(axAmp,'amplitude',1,3,valinit=1)\n",
    "\n",
    "global sliderFlag\n",
    "sliderFlag=False\n",
    "def updateSlider(val):\n",
    "    time=Time.val;amp=Amp.val\n",
    "    sliderFlag=True\n"
   ]
  },
  {
   "cell_type": "code",
   "execution_count": 241,
   "metadata": {
    "collapsed": false
   },
   "outputs": [
    {
     "ename": "KeyboardInterrupt",
     "evalue": "",
     "output_type": "error",
     "traceback": [
      "\u001b[0;31m---------------------------------------------------------------------------\u001b[0m",
      "\u001b[0;31mKeyboardInterrupt\u001b[0m                         Traceback (most recent call last)",
      "\u001b[0;32m<ipython-input-241-d2cc2177d1c1>\u001b[0m in \u001b[0;36m<module>\u001b[0;34m()\u001b[0m\n\u001b[1;32m     13\u001b[0m     \u001b[0;31m#fig.canvas.draw()\u001b[0m\u001b[0;34m\u001b[0m\u001b[0;34m\u001b[0m\u001b[0m\n\u001b[1;32m     14\u001b[0m     \u001b[0;31m#plt.pause(0.005)\u001b[0m\u001b[0;34m\u001b[0m\u001b[0;34m\u001b[0m\u001b[0m\n\u001b[0;32m---> 15\u001b[0;31m     \u001b[0mtime\u001b[0m\u001b[0;34m.\u001b[0m\u001b[0msleep\u001b[0m\u001b[0;34m(\u001b[0m\u001b[0;36m0.01\u001b[0m\u001b[0;34m)\u001b[0m\u001b[0;34m\u001b[0m\u001b[0m\n\u001b[0m\u001b[1;32m     16\u001b[0m \u001b[0;34m\u001b[0m\u001b[0m\n\u001b[1;32m     17\u001b[0m \u001b[0mplt\u001b[0m\u001b[0;34m.\u001b[0m\u001b[0mshow\u001b[0m\u001b[0;34m(\u001b[0m\u001b[0;34m)\u001b[0m\u001b[0;34m\u001b[0m\u001b[0m\n",
      "\u001b[0;31mKeyboardInterrupt\u001b[0m: "
     ]
    }
   ],
   "source": [
    "def loopFlag(sliderFlag):\n",
    "    return not sliderFlag\n",
    "\n",
    "Time.on_changed(update)\n",
    "Amp.on_changed(update)\n",
    "\n",
    "t=0\n",
    "while(not(sliderFlag)):\n",
    "    t+=1\n",
    "    x,y=update(t)\n",
    "    l.set_data(x,y)\n",
    "\n",
    "    #fig.canvas.draw()\n",
    "    #plt.pause(0.005)\n",
    "    time.sleep(0.01)\n",
    "\n",
    "plt.show() "
   ]
  },
  {
   "cell_type": "code",
   "execution_count": 242,
   "metadata": {
    "collapsed": false
   },
   "outputs": [],
   "source": [
    "for t in range(1000):\n",
    "    x,y=update(t)\n",
    "    l.set_data(x,y)\n",
    "\n",
    "    #fig.canvas.draw()\n",
    "    #plt.pause(0.005)\n",
    "    #fig.canvas.draw()\n",
    "    plt.show() \n",
    "\n",
    "    time.sleep(1)\n",
    "\n",
    "plt.show() "
   ]
  },
  {
   "cell_type": "code",
   "execution_count": null,
   "metadata": {
    "collapsed": true
   },
   "outputs": [],
   "source": []
  }
 ],
 "metadata": {
  "kernelspec": {
   "display_name": "Python 2",
   "language": "python",
   "name": "python2"
  },
  "language_info": {
   "codemirror_mode": {
    "name": "ipython",
    "version": 2
   },
   "file_extension": ".py",
   "mimetype": "text/x-python",
   "name": "python",
   "nbconvert_exporter": "python",
   "pygments_lexer": "ipython2",
   "version": "2.7.6"
  }
 },
 "nbformat": 4,
 "nbformat_minor": 1
}
