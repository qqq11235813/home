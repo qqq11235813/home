{
 "cells": [
  {
   "cell_type": "code",
   "execution_count": null,
   "metadata": {
    "collapsed": false
   },
   "outputs": [],
   "source": [
    "from mayavi import mlab\n",
    "from tvtk.tools import visual\n",
    "# Create a figure\n",
    "f = mlab.figure(size=(500,500))\n",
    "# Tell visual to use this as the viewer.\n",
    "visual.set_viewer(f)\n",
    "\n",
    "b1 = visual.box()\n",
    "\n",
    "b1.v = 5.0\n",
    "\n",
    "@mlab.show\n",
    "@mlab.animate(delay=250)\n",
    "def anim():\n",
    "    \"\"\"Animate the b1 box.\"\"\"\n",
    "    while 1:\n",
    "        b1.x = b1.x + b1.v*0.1\n",
    "        if b1.x > 2.5 or b1.x < -2.5:\n",
    "            b1.v = -b1.v\n",
    "        yield\n",
    "\n",
    "# Run the animation.\n",
    "anim()\n"
   ]
  },
  {
   "cell_type": "code",
   "execution_count": null,
   "metadata": {
    "collapsed": false
   },
   "outputs": [],
   "source": [
    "from mayavi import mlab\n",
    "import numpy as np\n",
    "mlab.clf()  # Clear the figure\n",
    "t = np.linspace(0, 20, 200)\n",
    "a = mlab.plot3d(np.sin(t), np.cos(t), 0.1*t, t)\n",
    "print a.x\n",
    "mlab.show()"
   ]
  },
  {
   "cell_type": "code",
   "execution_count": null,
   "metadata": {
    "collapsed": false
   },
   "outputs": [],
   "source": []
  },
  {
   "cell_type": "code",
   "execution_count": null,
   "metadata": {
    "collapsed": true
   },
   "outputs": [],
   "source": []
  }
 ],
 "metadata": {
  "kernelspec": {
   "display_name": "Python 2",
   "language": "python",
   "name": "python2"
  },
  "language_info": {
   "codemirror_mode": {
    "name": "ipython",
    "version": 2
   },
   "file_extension": ".py",
   "mimetype": "text/x-python",
   "name": "python",
   "nbconvert_exporter": "python",
   "pygments_lexer": "ipython2",
   "version": "2.7.6"
  }
 },
 "nbformat": 4,
 "nbformat_minor": 1
}
