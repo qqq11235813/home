{
 "cells": [
  {
   "cell_type": "code",
   "execution_count": 16,
   "metadata": {},
   "outputs": [],
   "source": [
    "import numpy as np\n",
    "import pandas as pd"
   ]
  },
  {
   "cell_type": "code",
   "execution_count": 75,
   "metadata": {},
   "outputs": [],
   "source": [
    "filename = \"length+for+age+girl\"\n",
    "df = pd.read_csv(filename + \".csv\")\n",
    "df = df.drop(df.index[0], axis = 0)\n",
    "df = df.drop(df.columns[0], axis= 1)\n",
    "#df.index[10]\n",
    "output = open('abc/'+'q'+filename+'.txt', 'w+')\n",
    "for index ,row in df.iterrows():\n",
    "    for col_name in df.columns:\n",
    "        output.write(row[col_name])\n",
    "        output.write(',')\n",
    "output.close()\n"
   ]
  },
  {
   "cell_type": "code",
   "execution_count": 58,
   "metadata": {},
   "outputs": [],
   "source": []
  },
  {
   "cell_type": "code",
   "execution_count": 59,
   "metadata": {},
   "outputs": [],
   "source": [
    "output.close()"
   ]
  },
  {
   "cell_type": "code",
   "execution_count": 25,
   "metadata": {},
   "outputs": [
    {
     "name": "stdout",
     "output_type": "stream",
     "text": [
      "{'32': 4, '2': 3}\n"
     ]
    }
   ],
   "source": [
    "a = {}\n",
    "a['2'] = 3\n",
    "a['3' + str(2)] = a['2']+1\n",
    "print(a)"
   ]
  },
  {
   "cell_type": "code",
   "execution_count": null,
   "metadata": {},
   "outputs": [],
   "source": []
  }
 ],
 "metadata": {
  "kernelspec": {
   "display_name": "Python 2",
   "language": "python",
   "name": "python2"
  },
  "language_info": {
   "codemirror_mode": {
    "name": "ipython",
    "version": 3
   },
   "file_extension": ".py",
   "mimetype": "text/x-python",
   "name": "python",
   "nbconvert_exporter": "python",
   "pygments_lexer": "ipython3",
   "version": "3.5.3"
  }
 },
 "nbformat": 4,
 "nbformat_minor": 1
}
